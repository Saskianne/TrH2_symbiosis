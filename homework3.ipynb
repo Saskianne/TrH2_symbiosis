{
 "cells": [
  {
   "cell_type": "markdown",
   "metadata": {},
   "source": [
    "1. Linear regression\n",
    "1.1 Linear regression with βˆ = (X^T*X)^−1*X^T*y .\n",
    "1.2 Calculate the SSE and residual error for β.\n",
    "1.3 Draw the points and the regression line. "
   ]
  },
  {
   "cell_type": "code",
   "execution_count": 4,
   "metadata": {},
   "outputs": [
    {
     "name": "stdout",
     "output_type": "stream",
     "text": [
      "Collecting numpy\n",
      "  Downloading numpy-2.2.0-cp313-cp313-win_amd64.whl.metadata (60 kB)\n",
      "Collecting matplotlib\n",
      "  Downloading matplotlib-3.9.3-cp313-cp313-win_amd64.whl.metadata (11 kB)\n",
      "Collecting contourpy>=1.0.1 (from matplotlib)\n",
      "  Downloading contourpy-1.3.1-cp313-cp313-win_amd64.whl.metadata (5.4 kB)\n",
      "Collecting cycler>=0.10 (from matplotlib)\n",
      "  Downloading cycler-0.12.1-py3-none-any.whl.metadata (3.8 kB)\n",
      "Collecting fonttools>=4.22.0 (from matplotlib)\n",
      "  Downloading fonttools-4.55.2-cp313-cp313-win_amd64.whl.metadata (168 kB)\n",
      "Collecting kiwisolver>=1.3.1 (from matplotlib)\n",
      "  Downloading kiwisolver-1.4.7-cp313-cp313-win_amd64.whl.metadata (6.4 kB)\n",
      "Requirement already satisfied: packaging>=20.0 in c:\\users\\swlee\\appdata\\roaming\\python\\python313\\site-packages (from matplotlib) (24.2)\n",
      "Collecting pillow>=8 (from matplotlib)\n",
      "  Downloading pillow-11.0.0-cp313-cp313-win_amd64.whl.metadata (9.3 kB)\n",
      "Collecting pyparsing>=2.3.1 (from matplotlib)\n",
      "  Downloading pyparsing-3.2.0-py3-none-any.whl.metadata (5.0 kB)\n",
      "Requirement already satisfied: python-dateutil>=2.7 in c:\\users\\swlee\\appdata\\roaming\\python\\python313\\site-packages (from matplotlib) (2.9.0.post0)\n",
      "Requirement already satisfied: six>=1.5 in c:\\users\\swlee\\appdata\\roaming\\python\\python313\\site-packages (from python-dateutil>=2.7->matplotlib) (1.16.0)\n",
      "Downloading numpy-2.2.0-cp313-cp313-win_amd64.whl (12.6 MB)\n",
      "   ---------------------------------------- 0.0/12.6 MB ? eta -:--:--\n",
      "   -- ------------------------------------- 0.8/12.6 MB 7.4 MB/s eta 0:00:02\n",
      "   -------- ------------------------------- 2.6/12.6 MB 7.3 MB/s eta 0:00:02\n",
      "   ------------- -------------------------- 4.2/12.6 MB 6.7 MB/s eta 0:00:02\n",
      "   ------------------- -------------------- 6.0/12.6 MB 7.3 MB/s eta 0:00:01\n",
      "   ----------------------- ---------------- 7.3/12.6 MB 7.3 MB/s eta 0:00:01\n",
      "   -------------------------- ------------- 8.4/12.6 MB 6.7 MB/s eta 0:00:01\n",
      "   ----------------------------- ---------- 9.4/12.6 MB 6.5 MB/s eta 0:00:01\n",
      "   ---------------------------------- ----- 11.0/12.6 MB 6.5 MB/s eta 0:00:01\n",
      "   ---------------------------------------  12.3/12.6 MB 6.4 MB/s eta 0:00:01\n",
      "   ---------------------------------------- 12.6/12.6 MB 6.4 MB/s eta 0:00:00\n",
      "Downloading matplotlib-3.9.3-cp313-cp313-win_amd64.whl (7.8 MB)\n",
      "   ---------------------------------------- 0.0/7.8 MB ? eta -:--:--\n",
      "   ------ --------------------------------- 1.3/7.8 MB 6.8 MB/s eta 0:00:01\n",
      "   ------------- -------------------------- 2.6/7.8 MB 6.7 MB/s eta 0:00:01\n",
      "   --------------------- ------------------ 4.2/7.8 MB 6.8 MB/s eta 0:00:01\n",
      "   ----------------------------- ---------- 5.8/7.8 MB 6.9 MB/s eta 0:00:01\n",
      "   ------------------------------------- -- 7.3/7.8 MB 7.0 MB/s eta 0:00:01\n",
      "   ---------------------------------------- 7.8/7.8 MB 6.9 MB/s eta 0:00:00\n",
      "Downloading contourpy-1.3.1-cp313-cp313-win_amd64.whl (220 kB)\n",
      "Downloading cycler-0.12.1-py3-none-any.whl (8.3 kB)\n",
      "Downloading fonttools-4.55.2-cp313-cp313-win_amd64.whl (2.2 MB)\n",
      "   ---------------------------------------- 0.0/2.2 MB ? eta -:--:--\n",
      "   ---------------------------- ----------- 1.6/2.2 MB 7.3 MB/s eta 0:00:01\n",
      "   ---------------------------------------- 2.2/2.2 MB 6.9 MB/s eta 0:00:00\n",
      "Downloading kiwisolver-1.4.7-cp313-cp313-win_amd64.whl (55 kB)\n",
      "Downloading pillow-11.0.0-cp313-cp313-win_amd64.whl (2.6 MB)\n",
      "   ---------------------------------------- 0.0/2.6 MB ? eta -:--:--\n",
      "   -------------------- ------------------- 1.3/2.6 MB 6.9 MB/s eta 0:00:01\n",
      "   ---------------------------------------- 2.6/2.6 MB 6.6 MB/s eta 0:00:00\n",
      "Downloading pyparsing-3.2.0-py3-none-any.whl (106 kB)\n",
      "Installing collected packages: pyparsing, pillow, numpy, kiwisolver, fonttools, cycler, contourpy, matplotlib\n",
      "Successfully installed contourpy-1.3.1 cycler-0.12.1 fonttools-4.55.2 kiwisolver-1.4.7 matplotlib-3.9.3 numpy-2.2.0 pillow-11.0.0 pyparsing-3.2.0\n"
     ]
    },
    {
     "name": "stderr",
     "output_type": "stream",
     "text": [
      "\n",
      "[notice] A new release of pip is available: 24.2 -> 24.3.1\n",
      "[notice] To update, run: python.exe -m pip install --upgrade pip\n",
      "Matplotlib is building the font cache; this may take a moment.\n"
     ]
    },
    {
     "name": "stdout",
     "output_type": "stream",
     "text": [
      "Estimated coefficients (β): [ 9. -1.]\n",
      "Sum of Squared Errors (SSE): 4.000000000000002\n",
      "Residual Error (ε): [ 1.  1. -1. -1.]\n"
     ]
    },
    {
     "data": {
      "image/png": "[encoded data removed]",
      "text/plain": [
       "<Figure size 640x480 with 1 Axes>"
      ]
     },
     "metadata": {},
     "output_type": "display_data"
    }
   ],
   "source": [
    "%pip install numpy matplotlib\n",
    "import numpy as np\n",
    "import matplotlib.pyplot as plt\n",
    "\n",
    "x = np.array([2, 8, 6, 4])\n",
    "y = np.array([8, 2, 2, 4])\n",
    "X = np.column_stack((np.ones(len(x)), x))\n",
    "\n",
    "beta = np.linalg.inv(X.T @ X) @ X.T @ y\n",
    "y_hat = X @ beta\n",
    "SSE = np.sum((y - y_hat) ** 2)\n",
    "residual_error = y - y_hat\n",
    "\n",
    "print(f\"Estimated coefficients (β): {beta}\")\n",
    "print(f\"Sum of Squared Errors (SSE): {SSE}\")\n",
    "print(f\"Residual Error (ε): {residual_error}\")\n",
    "\n",
    "plt.scatter(x, y, color='blue', label='Data points')\n",
    "plt.plot(x, y_hat, color='red', label=f'Regression line: y = {beta[0]:.2f} + {beta[1]:.2f}x')\n",
    "plt.xlabel('x')\n",
    "plt.ylabel('y')\n",
    "plt.title('Linear Regression')\n",
    "plt.legend()\n",
    "plt.show()"
   ]
  },
  {
   "cell_type": "code",
   "execution_count": 6,
   "metadata": {},
   "outputs": [
    {
     "name": "stdout",
     "output_type": "stream",
     "text": [
      "Note: you may need to restart the kernel to use updated packages.\n"
     ]
    },
    {
     "name": "stderr",
     "output_type": "stream",
     "text": [
      "ERROR: Could not find a version that satisfies the requirement xelatex (from versions: none)\n",
      "\n",
      "[notice] A new release of pip is available: 24.2 -> 24.3.1\n",
      "[notice] To update, run: python.exe -m pip install --upgrade pip\n",
      "ERROR: No matching distribution found for xelatex\n"
     ]
    },
    {
     "name": "stdout",
     "output_type": "stream",
     "text": [
      "Collecting nbconvert[webpdf]\n",
      "  Downloading nbconvert-7.16.4-py3-none-any.whl.metadata (8.5 kB)\n",
      "Collecting beautifulsoup4 (from nbconvert[webpdf])\n",
      "  Downloading beautifulsoup4-4.12.3-py3-none-any.whl.metadata (3.8 kB)\n",
      "Collecting bleach!=5.0.0 (from nbconvert[webpdf])\n",
      "  Downloading bleach-6.2.0-py3-none-any.whl.metadata (30 kB)\n",
      "Collecting defusedxml (from nbconvert[webpdf])\n",
      "  Downloading defusedxml-0.7.1-py2.py3-none-any.whl.metadata (32 kB)\n",
      "Collecting jinja2>=3.0 (from nbconvert[webpdf])\n",
      "  Downloading jinja2-3.1.4-py3-none-any.whl.metadata (2.6 kB)\n",
      "Requirement already satisfied: jupyter-core>=4.7 in c:\\users\\swlee\\appdata\\roaming\\python\\python313\\site-packages (from nbconvert[webpdf]) (5.7.2)\n",
      "Collecting jupyterlab-pygments (from nbconvert[webpdf])\n",
      "  Downloading jupyterlab_pygments-0.3.0-py3-none-any.whl.metadata (4.4 kB)\n",
      "Collecting markupsafe>=2.0 (from nbconvert[webpdf])\n",
      "  Downloading MarkupSafe-3.0.2-cp313-cp313-win_amd64.whl.metadata (4.1 kB)\n",
      "Collecting mistune<4,>=2.0.3 (from nbconvert[webpdf])\n",
      "  Downloading mistune-3.0.2-py3-none-any.whl.metadata (1.7 kB)\n",
      "Collecting nbclient>=0.5.0 (from nbconvert[webpdf])\n",
      "  Downloading nbclient-0.10.1-py3-none-any.whl.metadata (8.2 kB)\n",
      "Collecting nbformat>=5.7 (from nbconvert[webpdf])\n",
      "  Downloading nbformat-5.10.4-py3-none-any.whl.metadata (3.6 kB)\n",
      "Requirement already satisfied: packaging in c:\\users\\swlee\\appdata\\roaming\\python\\python313\\site-packages (from nbconvert[webpdf]) (24.2)\n",
      "Collecting pandocfilters>=1.4.1 (from nbconvert[webpdf])\n",
      "  Downloading pandocfilters-1.5.1-py2.py3-none-any.whl.metadata (9.0 kB)\n",
      "Requirement already satisfied: pygments>=2.4.1 in c:\\users\\swlee\\appdata\\roaming\\python\\python313\\site-packages (from nbconvert[webpdf]) (2.18.0)\n",
      "Collecting tinycss2 (from nbconvert[webpdf])\n",
      "  Downloading tinycss2-1.4.0-py3-none-any.whl.metadata (3.0 kB)\n",
      "Requirement already satisfied: traitlets>=5.1 in c:\\users\\swlee\\appdata\\roaming\\python\\python313\\site-packages (from nbconvert[webpdf]) (5.14.3)\n",
      "Collecting playwright (from nbconvert[webpdf])\n",
      "  Downloading playwright-1.49.0-py3-none-win_amd64.whl.metadata (3.5 kB)\n",
      "Collecting webencodings (from bleach!=5.0.0->nbconvert[webpdf])\n",
      "  Downloading webencodings-0.5.1-py2.py3-none-any.whl.metadata (2.1 kB)\n",
      "Requirement already satisfied: platformdirs>=2.5 in c:\\users\\swlee\\appdata\\roaming\\python\\python313\\site-packages (from jupyter-core>=4.7->nbconvert[webpdf]) (4.3.6)\n",
      "Requirement already satisfied: pywin32>=300 in c:\\users\\swlee\\appdata\\roaming\\python\\python313\\site-packages (from jupyter-core>=4.7->nbconvert[webpdf]) (308)\n",
      "Requirement already satisfied: jupyter-client>=6.1.12 in c:\\users\\swlee\\appdata\\roaming\\python\\python313\\site-packages (from nbclient>=0.5.0->nbconvert[webpdf]) (8.6.3)\n",
      "Collecting fastjsonschema>=2.15 (from nbformat>=5.7->nbconvert[webpdf])\n",
      "  Downloading fastjsonschema-2.21.1-py3-none-any.whl.metadata (2.2 kB)\n",
      "Collecting jsonschema>=2.6 (from nbformat>=5.7->nbconvert[webpdf])\n",
      "  Downloading jsonschema-4.23.0-py3-none-any.whl.metadata (7.9 kB)\n",
      "Collecting soupsieve>1.2 (from beautifulsoup4->nbconvert[webpdf])\n",
      "  Downloading soupsieve-2.6-py3-none-any.whl.metadata (4.6 kB)\n",
      "Collecting greenlet==3.1.1 (from playwright->nbconvert[webpdf])\n",
      "  Downloading greenlet-3.1.1-cp313-cp313-win_amd64.whl.metadata (3.9 kB)\n",
      "Collecting pyee==12.0.0 (from playwright->nbconvert[webpdf])\n",
      "  Downloading pyee-12.0.0-py3-none-any.whl.metadata (2.8 kB)\n",
      "Collecting typing-extensions (from pyee==12.0.0->playwright->nbconvert[webpdf])\n",
      "  Downloading typing_extensions-4.12.2-py3-none-any.whl.metadata (3.0 kB)\n",
      "Collecting attrs>=22.2.0 (from jsonschema>=2.6->nbformat>=5.7->nbconvert[webpdf])\n",
      "  Downloading attrs-24.2.0-py3-none-any.whl.metadata (11 kB)\n",
      "Collecting jsonschema-specifications>=2023.03.6 (from jsonschema>=2.6->nbformat>=5.7->nbconvert[webpdf])\n",
      "  Downloading jsonschema_specifications-2024.10.1-py3-none-any.whl.metadata (3.0 kB)\n",
      "Collecting referencing>=0.28.4 (from jsonschema>=2.6->nbformat>=5.7->nbconvert[webpdf])\n",
      "  Downloading referencing-0.35.1-py3-none-any.whl.metadata (2.8 kB)\n",
      "Collecting rpds-py>=0.7.1 (from jsonschema>=2.6->nbformat>=5.7->nbconvert[webpdf])\n",
      "  Downloading rpds_py-0.22.3-cp313-cp313-win_amd64.whl.metadata (4.2 kB)\n",
      "Requirement already satisfied: python-dateutil>=2.8.2 in c:\\users\\swlee\\appdata\\roaming\\python\\python313\\site-packages (from jupyter-client>=6.1.12->nbclient>=0.5.0->nbconvert[webpdf]) (2.9.0.post0)\n",
      "Requirement already satisfied: pyzmq>=23.0 in c:\\users\\swlee\\appdata\\roaming\\python\\python313\\site-packages (from jupyter-client>=6.1.12->nbclient>=0.5.0->nbconvert[webpdf]) (26.2.0)\n",
      "Requirement already satisfied: tornado>=6.2 in c:\\users\\swlee\\appdata\\roaming\\python\\python313\\site-packages (from jupyter-client>=6.1.12->nbclient>=0.5.0->nbconvert[webpdf]) (6.4.1)\n",
      "Requirement already satisfied: six>=1.5 in c:\\users\\swlee\\appdata\\roaming\\python\\python313\\site-packages (from python-dateutil>=2.8.2->jupyter-client>=6.1.12->nbclient>=0.5.0->nbconvert[webpdf]) (1.16.0)\n",
      "Downloading bleach-6.2.0-py3-none-any.whl (163 kB)\n",
      "Downloading jinja2-3.1.4-py3-none-any.whl (133 kB)\n",
      "Downloading MarkupSafe-3.0.2-cp313-cp313-win_amd64.whl (15 kB)\n",
      "Downloading mistune-3.0.2-py3-none-any.whl (47 kB)\n",
      "Downloading nbclient-0.10.1-py3-none-any.whl (25 kB)\n",
      "Downloading nbformat-5.10.4-py3-none-any.whl (78 kB)\n",
      "Downloading pandocfilters-1.5.1-py2.py3-none-any.whl (8.7 kB)\n",
      "Downloading beautifulsoup4-4.12.3-py3-none-any.whl (147 kB)\n",
      "Downloading defusedxml-0.7.1-py2.py3-none-any.whl (25 kB)\n",
      "Downloading jupyterlab_pygments-0.3.0-py3-none-any.whl (15 kB)\n",
      "Downloading nbconvert-7.16.4-py3-none-any.whl (257 kB)\n",
      "Downloading playwright-1.49.0-py3-none-win_amd64.whl (34.0 MB)\n",
      "   ---------------------------------------- 0.0/34.0 MB ? eta -:--:--\n",
      "   - -------------------------------------- 1.3/34.0 MB 7.3 MB/s eta 0:00:05\n",
      "   --- ------------------------------------ 2.9/34.0 MB 7.3 MB/s eta 0:00:05\n",
      "   ----- ---------------------------------- 4.5/34.0 MB 7.3 MB/s eta 0:00:05\n",
      "   ------ --------------------------------- 5.2/34.0 MB 7.3 MB/s eta 0:00:04\n",
      "   -------- ------------------------------- 7.6/34.0 MB 7.3 MB/s eta 0:00:04\n",
      "   ---------- ----------------------------- 9.2/34.0 MB 7.2 MB/s eta 0:00:04\n",
      "   ------------ --------------------------- 10.7/34.0 MB 7.2 MB/s eta 0:00:04\n",
      "   -------------- ------------------------- 12.3/34.0 MB 7.3 MB/s eta 0:00:03\n",
      "   ---------------- ----------------------- 13.9/34.0 MB 7.2 MB/s eta 0:00:03\n",
      "   ----------------- ---------------------- 15.2/34.0 MB 7.3 MB/s eta 0:00:03\n",
      "   ------------------- -------------------- 16.8/34.0 MB 7.2 MB/s eta 0:00:03\n",
      "   --------------------- ------------------ 18.4/34.0 MB 7.2 MB/s eta 0:00:03\n",
      "   ----------------------- ---------------- 19.9/34.0 MB 7.2 MB/s eta 0:00:02\n",
      "   ------------------------- -------------- 21.5/34.0 MB 7.2 MB/s eta 0:00:02\n",
      "   --------------------------- ------------ 23.1/34.0 MB 7.2 MB/s eta 0:00:02\n",
      "   ---------------------------- ----------- 24.6/34.0 MB 7.2 MB/s eta 0:00:02\n",
      "   ------------------------------ --------- 26.2/34.0 MB 7.2 MB/s eta 0:00:02\n",
      "   -------------------------------- ------- 27.8/34.0 MB 7.2 MB/s eta 0:00:01\n",
      "   ---------------------------------- ----- 29.4/34.0 MB 7.2 MB/s eta 0:00:01\n",
      "   ------------------------------------ --- 30.9/34.0 MB 7.2 MB/s eta 0:00:01\n",
      "   ------------------------------------- -- 32.2/34.0 MB 7.2 MB/s eta 0:00:01\n",
      "   ---------------------------------------  33.8/34.0 MB 7.2 MB/s eta 0:00:01\n",
      "   ---------------------------------------- 34.0/34.0 MB 7.1 MB/s eta 0:00:00\n",
      "Downloading greenlet-3.1.1-cp313-cp313-win_amd64.whl (299 kB)\n",
      "Downloading pyee-12.0.0-py3-none-any.whl (14 kB)\n",
      "Downloading tinycss2-1.4.0-py3-none-any.whl (26 kB)\n",
      "Downloading fastjsonschema-2.21.1-py3-none-any.whl (23 kB)\n",
      "Downloading jsonschema-4.23.0-py3-none-any.whl (88 kB)\n",
      "Downloading soupsieve-2.6-py3-none-any.whl (36 kB)\n",
      "Downloading webencodings-0.5.1-py2.py3-none-any.whl (11 kB)\n",
      "Downloading attrs-24.2.0-py3-none-any.whl (63 kB)\n",
      "Downloading jsonschema_specifications-2024.10.1-py3-none-any.whl (18 kB)\n",
      "Downloading referencing-0.35.1-py3-none-any.whl (26 kB)\n",
      "Downloading rpds_py-0.22.3-cp313-cp313-win_amd64.whl (235 kB)\n",
      "Downloading typing_extensions-4.12.2-py3-none-any.whl (37 kB)\n",
      "Installing collected packages: webencodings, fastjsonschema, typing-extensions, tinycss2, soupsieve, rpds-py, pandocfilters, mistune, markupsafe, jupyterlab-pygments, greenlet, defusedxml, bleach, attrs, referencing, pyee, jinja2, beautifulsoup4, playwright, jsonschema-specifications, jsonschema, nbformat, nbclient, nbconvert\n",
      "Successfully installed attrs-24.2.0 beautifulsoup4-4.12.3 bleach-6.2.0 defusedxml-0.7.1 fastjsonschema-2.21.1 greenlet-3.1.1 jinja2-3.1.4 jsonschema-4.23.0 jsonschema-specifications-2024.10.1 jupyterlab-pygments-0.3.0 markupsafe-3.0.2 mistune-3.0.2 nbclient-0.10.1 nbconvert-7.16.4 nbformat-5.10.4 pandocfilters-1.5.1 playwright-1.49.0 pyee-12.0.0 referencing-0.35.1 rpds-py-0.22.3 soupsieve-2.6 tinycss2-1.4.0 typing-extensions-4.12.2 webencodings-0.5.1\n",
      "Note: you may need to restart the kernel to use updated packages.\n"
     ]
    },
    {
     "name": "stderr",
     "output_type": "stream",
     "text": [
      "\n",
      "[notice] A new release of pip is available: 24.2 -> 24.3.1\n",
      "[notice] To update, run: python.exe -m pip install --upgrade pip\n"
     ]
    }
   ],
   "source": [
    "%pip install xelatex\n",
    "%pip install nbconvert[webpdf]"
   ]
  }
 ],
 "metadata": {
  "kernelspec": {
   "display_name": "Python 3",
   "language": "python",
   "name": "python3"
  },
  "language_info": {
   "codemirror_mode": {
    "name": "ipython",
    "version": 3
   },
   "file_extension": ".py",
   "mimetype": "text/x-python",
   "name": "python",
   "nbconvert_exporter": "python",
   "pygments_lexer": "ipython3",
   "version": "3.13.0"
  }
 },
 "nbformat": 4,
 "nbformat_minor": 2
}
