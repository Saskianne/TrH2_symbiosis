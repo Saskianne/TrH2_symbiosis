{
 "cells": [
  {
   "cell_type": "markdown",
   "metadata": {},
   "source": [
    "Metacell script"
   ]
  },
  {
   "cell_type": "code",
   "execution_count": null,
   "metadata": {
    "vscode": {
     "languageId": "plaintext"
    }
   },
   "outputs": [],
   "source": [
    "# originally given\n",
    "pip install metacells\n",
    "# but this doesn't work due to not existing pip, so I tried\n",
    "apt install python3-pip # and other dependencies\n",
    "apt install python3-pandas\n",
    "apt install python3-numpy\n",
    "apt install python3-scipy \n",
    "# scanpy was unavailable, but at the end\n",
    "pip install metacells # worked\n"
   ]
  }
 ],
 "metadata": {
  "language_info": {
   "name": "python"
  }
 },
 "nbformat": 4,
 "nbformat_minor": 2
}
