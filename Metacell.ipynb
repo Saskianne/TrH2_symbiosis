{
 "cells": [
  {
   "cell_type": "markdown",
   "metadata": {},
   "source": [
    "Metacell script"
   ]
  },
  {
   "cell_type": "code",
   "execution_count": null,
   "metadata": {
    "vscode": {
     "languageId": "plaintext"
    }
   },
   "outputs": [],
   "source": [
    "# originally given\n",
    "pip install metacells\n",
    "# but this doesn't work due to not existing pip, so I tried\n",
    "apt install python3-pip # and installed other dependencies\n",
    "apt install python3-pandas\n",
    "apt install python3-numpy\n",
    "apt install python3-scipy \n",
    "# scanpy was unavailable, but at the end\n",
    "\n",
    "pip install metacells \n",
    "# It worked! \n",
    "# The metacell fastcluster session-info and other dependencies have been installed. \n",
    "\n",
    "sudo mount drvfs E: /mnt/e/\n",
    "cd /mnt/e/scTriH2/metacell\n",
    "conda activate scTrH2_env # otherwise try conda info --envs\n",
    "\n"
   ]
  },
  {
   "cell_type": "code",
   "execution_count": null,
   "metadata": {
    "vscode": {
     "languageId": "plaintext"
    }
   },
   "outputs": [],
   "source": [
    "# in r install mc2d for the 2D Monte-Carlo simulations \n",
    "setwd(\"E:/scTriH2/metacell/\")\n",
    "install.packages(\"mc2d\")\n",
    "library(\"mc2d\")"
   ]
  }
 ],
 "metadata": {
  "language_info": {
   "name": "python"
  }
 },
 "nbformat": 4,
 "nbformat_minor": 2
}
