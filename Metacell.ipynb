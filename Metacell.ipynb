{
 "cells": [
  {
   "cell_type": "markdown",
   "metadata": {},
   "source": [
    "# Metacell script\n",
    "\n",
    "- process starts after the data has been summarized\n",
    "- "
   ]
  },
  {
   "cell_type": "code",
   "execution_count": null,
   "metadata": {
    "vscode": {
     "languageId": "plaintext"
    }
   },
   "outputs": [],
   "source": [
    "# originally given\n",
    "pip install metacells\n",
    "# but this doesn't work due to not existing pip, so I tried\n",
    "apt install python3-pip # and installed other dependencies\n",
    "apt install python3-pandas\n",
    "apt install python3-numpy\n",
    "apt install python3-scipy \n",
    "# scanpy was unavailable, but at the end\n",
    "\n",
    "pip install metacells \n",
    "# It worked! \n",
    "# The metacell fastcluster session-info and other dependencies have been installed. \n",
    "\n",
    "sudo mount drvfs E: /mnt/e/\n",
    "cd /mnt/e/scTriH2/metacell\n",
    "conda activate scTrH2_env # otherwise try conda info --envs\n",
    "\n",
    "# in R \n",
    "if (!require(\"BiocManager\")) install.packages('BiocManager') \n",
    "BiocManager::install(\"tanaylab/metacell\")\n",
    "\n",
    "library(metacell)\n",
    "\n",
    "if(!dir.exists(\"testdb\")) dir.create(\"testdb/\")\n",
    "scdb_init(\"testdb/\", force_reinit=T)\n",
    "#> initializing scdb to testdb/\n",
    "\n",
    "force_reinit=T # overwrite if running in cycles and update object\n",
    "\n",
    "mat = scdb_mat(\"test\")\n",
    "print(dim(mat@mat))\n",
    "\n",
    "# link the package to a figure directory\n",
    "if(!dir.exists(\"figs\")) dir.create(\"figs/\")\n",
    "scfigs_init(\"figs/\")"
   ]
  },
  {
   "cell_type": "code",
   "execution_count": null,
   "metadata": {
    "vscode": {
     "languageId": "plaintext"
    }
   },
   "outputs": [],
   "source": [
    "# in r install mc2d for the 2D Monte-Carlo simulations \n",
    "setwd(\"E:/scTriH2/metacell/\")\n",
    "install.packages(\"mc2d\")\n",
    "library(\"mc2d\")"
   ]
  }
 ],
 "metadata": {
  "language_info": {
   "name": "python"
  }
 },
 "nbformat": 4,
 "nbformat_minor": 2
}
