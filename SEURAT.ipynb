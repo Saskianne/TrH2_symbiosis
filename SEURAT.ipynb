{
 "cells": [
  {
   "cell_type": "markdown",
   "metadata": {},
   "source": [
    "SEURAT\n",
    "v5.2.0\n",
    "SEURAT is a R-based tool for single cell genomics analysis, particularly for the clustering analysis.  \n",
    "\n",
    "The SEURAT package was also resistant against running. Still I got it.\n",
    "See \"seurat_installation_script.r\""
   ]
  },
  {
   "cell_type": "markdown",
   "metadata": {},
   "source": [
    "SEURAT is also required to read out feature-barcode-matrices, outputs of cellranger count run. \n",
    "First of all, the raw feature-barcode-matrix is read with Read10X command of Seurat. "
   ]
  },
  {
   "cell_type": "code",
   "execution_count": null,
   "metadata": {
    "vscode": {
     "languageId": "plaintext"
    }
   },
   "outputs": [],
   "source": [
    "library(Biostrings)\n",
    "library(Seurat)\n",
    "getwd()\n",
    "setwd(\"E:/scTriH2/SEURAT/extracted/1.cellRangerCount/\")\n",
    "raw_matrix_SRR24886407 <- Read10X(data.dir = \"SRR24886407/outs/raw_feature_bc_matrix/\")\n",
    "print(head(raw_matrix_SRR24886407))\n",
    "ncol(raw_matrix_SRR24886407)\n",
    "nrow(raw_matrix_SRR24886407)"
   ]
  },
  {
   "cell_type": "markdown",
   "metadata": {},
   "source": [
    "#### 1318799 barcodes (total cell count in the sample)\n",
    "#### 1252 features (1252 mappable features)\n",
    "\n",
    "First, check whether the total mapped gene count is correct (see web_summary_SRR*.html)\n",
    "Then, the matrix is filterd. \n",
    "Filter out every feature with less than 2 hits per cell. (min.features)\n",
    "    - 1 inclusions can be contamination or coincident inclusion of feeding bacteria\n",
    "    - Features with higher than 2 inclusions is assumed as endosymbiotic genes\n",
    "    - Due to further filtering (e.g. by UMI count), the quality control will be improved\n",
    "    - Here, low-quality cells or empty droplets (barcodes, columns) are removed but not genes (features, row)\n",
    "\n",
    "Also, a gene must be contained across multiple cells: minimum of 2 cells must contain a gene (min.cell)\n",
    "    - Due to low detection level, the minimum cell number is 2 instead of 3 or more. \n",
    "    - Here, lowly expressed genes or background noise (features, row) is removed\n"
   ]
  },
  {
   "cell_type": "code",
   "execution_count": null,
   "metadata": {
    "vscode": {
     "languageId": "plaintext"
    }
   },
   "outputs": [],
   "source": [
    "raw_matrix_SRR24886407 <- raw_matrix_SRR24886407[rowSums(raw_matrix_SRR24886407>0)>= 1, ]\n",
    "nrow(raw_matrix_SRR24886407)\n",
    "raw_matrix_SRR24886407 <- raw_matrix_SRR24886407[rowSums(raw_matrix_SRR24886407>0)>= 2, ]\n",
    "nrow(raw_matrix_SRR24886407)\n",
    "\n",
    "raw_SRR24886407 <- CreateSeuratObject(counts = raw_matrix_SRR24886407, project = \"scTriH2\", min.features = 2, min.cells = 2)\n",
    "nrow(raw_SRR24886407[[\"RNA\"]]$counts)\n",
    "ncol(raw_SRR24886407[[\"RNA\"]]$counts)"
   ]
  },
  {
   "cell_type": "markdown",
   "metadata": {},
   "source": [
    "##### filtering by minium expressed gene count = 1, 355 features left, aligns with the summary\n",
    "##### filtering by minium expressed gene count = 2, 179 features left\n",
    "##### after filtering by gene count per cell (min.features=2) and cell per gene (min.cells) , only 71 features and 1646 barcodes remain. \n",
    "##### if only last filering step undertaken (CreateSeuratObject), then other numbers: 71 features but 1665 barcodes remaining. \n",
    "\n",
    "##### From now on, the underscores are replaced by dashes due to the error: \"Warning: Feature names cannot have underscores ('_'), replacing with dashes ('-')\"\n",
    "\n",
    "### WeirdThing: When I prefilter it with rowSums >=2 and then create seurat object with the metrics, the result is different than only creating seurat object with the same metrics (min.cells=2, min.features=2)\n",
    "\n",
    "Small QC-session:\n",
    "Check and visualize with violin plot:\n",
    "- UMI (mapped bacterial read) count per cell (nCount_RNA)\n",
    "    - This should be higher than \n",
    "- Number of expressed genes per cell (nFeature_RNA)\n",
    "- Percentage of reads assigned to bacterial genes (percent_bact) \n",
    "    - assessed later with the data of metacell.rda\n",
    "\n",
    "Then, filtered accordingly"
   ]
  },
  {
   "cell_type": "code",
   "execution_count": null,
   "metadata": {
    "vscode": {
     "languageId": "plaintext"
    }
   },
   "outputs": [],
   "source": [
    "\n",
    "\n"
   ]
  },
  {
   "cell_type": "markdown",
   "metadata": {},
   "source": [
    "    class, cluster, foreign, KernSmooth, MASS,\n",
    "    Matrix, nlme, nnet, rpart, spatial, survival\n",
    "Old packages: 'curl', 'GenomeInfoDb', 'parallelly',\n",
    "  'Rcpp', 'rlang', 'sp', 'spam'"
   ]
  }
 ],
 "metadata": {
  "language_info": {
   "name": "python"
  }
 },
 "nbformat": 4,
 "nbformat_minor": 2
}
