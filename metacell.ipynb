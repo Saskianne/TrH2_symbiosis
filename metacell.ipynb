{
 "cells": [
  {
   "cell_type": "markdown",
   "metadata": {},
   "source": [
    "Metacell run"
   ]
  },
  {
   "cell_type": "code",
   "execution_count": null,
   "metadata": {
    "vscode": {
     "languageId": "plaintext"
    }
   },
   "outputs": [],
   "source": [
    "# Load the MetaCell data (host cell atlas)\n",
    "load(\"E:/scTriH2/metacell/mc.scdr_TrH2_it4.Rda\")\n",
    "\n",
    "# Check what objects were loaded\n",
    "ls()\n",
    "\n",
    "# Assuming the main metacell object is called 'metacell_host', inspect it\n",
    "str(metacell_host)"
   ]
  },
  {
   "cell_type": "markdown",
   "metadata": {},
   "source": [
    "First, download the database from the github repository of xgrau:\n",
    "- https://github.com/xgrau/placozoa-cell-type-evolution-code\n",
    "- the directory is scatlas_results/data/scdb/\n",
    "Then, load the metacell data as in read.me of the repo\n",
    "- my data key is scdr_TrH2"
   ]
  },
  {
   "cell_type": "code",
   "execution_count": null,
   "metadata": {
    "vscode": {
     "languageId": "plaintext"
    }
   },
   "outputs": [],
   "source": [
    "library(metacell)\n",
    "setwd(\"/mnt/e/scTriH2/metacell\")\n",
    "\n",
    "# initialise metacell database using its relative path:\n",
    "metacell::scdb_init(\"/mnt/e/scTriH2/metacell/mc_unzipped/\", force_reinit = TRUE)\n",
    "\n",
    "# read the mat object using its ID to refer to it; there ara analogous files for metacells, etc\n",
    "mat_no_bact <- scdb_mat(\"scdr_TrH2_it2\")\n",
    "\n",
    "# sparse matrix available in the mat@mat slot, in this case it contains x genes and y cells\n",
    "dim(mat_no_bact@mat)\n",
    "    # 13948 genes x 15788 cells\n",
    "\n",
    "# likewise, you may want to load a mc object containing cell-to-metacell assignments\n",
    "mc = metacell::scdb_mc(\"scdr_TrH2_it4\")\n",
    "# the mc@mc slot is a vector with all cells and their associated metacell\n",
    "length(mc@mc)\n",
    "# 15704 cells associated with metacells\n",
    "\n",
    "ctt = read.table(\"annotation_mc.TrH2.it4.reordered.tsv\", header = TRUE)\n",
    "head(ctt)\n"
   ]
  },
  {
   "cell_type": "markdown",
   "metadata": {},
   "source": [
    "Secondly, the single cell data matrix (in this case in seurat object) is loaded. \n",
    "- The scRNA data are merged and processed (normalization , PCA)"
   ]
  },
  {
   "cell_type": "code",
   "execution_count": null,
   "metadata": {
    "vscode": {
     "languageId": "plaintext"
    }
   },
   "outputs": [],
   "source": [
    "library(Seurat)\n",
    "# load the symbiont sc matrix\n",
    "summary_object_1 <- readRDS(\"../SEURAT/extracted/1.cellRangerCount/Seurat_outputs/merged_seurat_object.rds\")\n",
    "BiocManager::install(\"SingleCellExperiment\")\n",
    "library(SingleCellExperiment)\n",
    "sce = as.SingleCellExperiment(summary_object_1, \"sce\")\n",
    "bact_mat = scm_import_sce_to_mat(sce)\n",
    "\n",
    "# Count bacterial signal per metacell\n",
    "grellia <- colSums(as.matrix(bact_mat@mat, names(mc@mc)))\n",
    "grellia_total <- tapply(grellia[names(mc@mc)], mc@mc, sum)\n",
    "\n",
    "mc_counts=scr_mc_gene_counts(mc,no_bact_mat,5)\n",
    "mc_sizes=colSums(mc_counts)\n",
    "grellia_norm=grellia_total*100/(grellia_total+mc_sizes)\n",
    "\n"
   ]
  },
  {
   "cell_type": "markdown",
   "metadata": {},
   "source": []
  },
  {
   "cell_type": "markdown",
   "metadata": {},
   "source": [
    "After counting:\n",
    "Generate figures for the metacell bacterial signal\n"
   ]
  },
  {
   "cell_type": "code",
   "execution_count": null,
   "metadata": {
    "vscode": {
     "languageId": "plaintext"
    }
   },
   "outputs": [],
   "source": [
    "# metacell bacterial signal\n",
    "pdf(\"bacterial_signal_per_mc.pdf\",h=8,w=8,useDingbats=F)\n",
    "plot(grellia_norm, pch=20, cex=4, col=as.character(ctt$color))\n",
    "text(grellia_norm, labels=names(grellia_norm), col=col=ifelse(pmax(grellia_norm)>4,\"black\",alpha(\"black\",0)))\n",
    "dev.off()\n",
    "\n",
    "# sc bacterial signal 2D projections\n",
    "grellia_mc2d <- scdb_mc2d(mc2d_id=\"scdr_TrH2_it4\")\n",
    "scp_plot_gene_2d_metacell_bacteria(mc2d,mc,grellia_norm,out_fn=\"Grellia_2d.png\",plot_mc=F,log=F)\n",
    "\n",
    "# fraction of infected/bacterial-containing cells per animal\n",
    "cell_animal=as.vector(mat@cell_metadata[names(mc@mc),\"dataset\"])\n",
    "names(cell_animal)=names(mc@mc)\n",
    "frac_grellia_cells=table(cell_animal[grellia_positive_cells])*100/table(cell_animal)\n",
    "\n",
    "pdf(\"Frac_infected_cells_per_animal.pdf\",h=10,w=6,useDingbats=F)\n",
    "par(mfrow=c(2,1))\n",
    "barplot(frac_grellia_cells,ylab=\"% infected cells\",col=\"gray30\",ylim=c(0,10),main=\"Grellia\")\n",
    "dev.off()\n"
   ]
  }
 ],
 "metadata": {
  "language_info": {
   "name": "python"
  }
 },
 "nbformat": 4,
 "nbformat_minor": 2
}
