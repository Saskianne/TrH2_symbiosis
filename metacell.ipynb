{
 "cells": [
  {
   "cell_type": "markdown",
   "metadata": {},
   "source": [
    "Metacell run"
   ]
  },
  {
   "cell_type": "code",
   "execution_count": null,
   "metadata": {
    "vscode": {
     "languageId": "plaintext"
    }
   },
   "outputs": [],
   "source": [
    "# Load the MetaCell data (host cell atlas)\n",
    "load(\"E:/scTriH2/metacell/mc.scdr_TrH2_it4.Rda\")\n",
    "\n",
    "# Check what objects were loaded\n",
    "ls()\n",
    "\n",
    "# Assuming the main metacell object is called 'metacell_host', inspect it\n",
    "str(metacell_host)"
   ]
  }
 ],
 "metadata": {
  "language_info": {
   "name": "python"
  }
 },
 "nbformat": 4,
 "nbformat_minor": 2
}
