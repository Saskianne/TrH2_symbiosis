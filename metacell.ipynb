{
 "cells": [
  {
   "cell_type": "markdown",
   "metadata": {},
   "source": [
    "Metacell run"
   ]
  },
  {
   "cell_type": "code",
   "execution_count": null,
   "metadata": {
    "vscode": {
     "languageId": "plaintext"
    }
   },
   "outputs": [],
   "source": [
    "# Load the MetaCell data (host cell atlas)\n",
    "load(\"E:/scTriH2/metacell/mc.scdr_TrH2_it4.Rda\")\n",
    "\n",
    "# Check what objects were loaded\n",
    "ls()\n",
    "\n",
    "# Assuming the main metacell object is called 'metacell_host', inspect it\n",
    "str(metacell_host)"
   ]
  },
  {
   "cell_type": "code",
   "execution_count": null,
   "metadata": {
    "vscode": {
     "languageId": "plaintext"
    }
   },
   "outputs": [],
   "source": [
    "library(metacell)\n",
    "setwd(\"/mnt/e/scTriH2/metacell\")\n",
    "# initialise metacell database using its relative path:\n",
    "mat <- metacell::scdb_init(\"/mnt/e/scTriH2/metacell/mc_unzipped/\", force_reinit = TRUE)\n",
    "# sparse matrix available in the mat@mat slot, in this case it contains 16386 genes x 13236 cells\n",
    "dim(mat@mat)\n",
    "# likewise, you may want to load a mc object containing cell-to-metacell assignments\n",
    "mc = metacell::scdb_mc(\"scdr_TrH2_it4\")\n",
    "# the mc@mc slot is a vector with all cells and their associated metacell\n",
    "length(mc@mc)\n",
    "\n",
    "ctt = read.table(\"annotation_mc.TrH2.it4.reordered.tsv\", header = TRUE)\n",
    "head(ctt)\n"
   ]
  },
  {
   "cell_type": "markdown",
   "metadata": {},
   "source": []
  }
 ],
 "metadata": {
  "language_info": {
   "name": "python"
  }
 },
 "nbformat": 4,
 "nbformat_minor": 2
}
