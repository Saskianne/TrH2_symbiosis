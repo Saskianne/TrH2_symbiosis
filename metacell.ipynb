{
 "cells": [
  {
   "cell_type": "markdown",
   "metadata": {},
   "source": [
    "Metacell run"
   ]
  },
  {
   "cell_type": "code",
   "execution_count": null,
   "metadata": {
    "vscode": {
     "languageId": "plaintext"
    }
   },
   "outputs": [],
   "source": [
    "# Load the MetaCell data (host cell atlas)\n",
    "load(\"E:/scTriH2/metacell/mc.scdr_TrH2_it4.Rda\")\n",
    "\n",
    "# Check what objects were loaded\n",
    "ls()\n",
    "\n",
    "# Assuming the main metacell object is called 'metacell_host', inspect it\n",
    "str(metacell_host)"
   ]
  },
  {
   "cell_type": "markdown",
   "metadata": {},
   "source": [
    "First, download the database from the github repository of xgrau:\n",
    "- https://github.com/xgrau/placozoa-cell-type-evolution-code\n",
    "- the directory is scatlas_results/data/scdb/\n",
    "Then, load the metacell data as in read.me of the repo\n",
    "- my data key is scdr_TrH2"
   ]
  },
  {
   "cell_type": "code",
   "execution_count": null,
   "metadata": {
    "vscode": {
     "languageId": "plaintext"
    }
   },
   "outputs": [],
   "source": [
    "library(metacell)\n",
    "setwd(\"/mnt/d/scTriH2/metacell\")\n",
    "source(\"xboc_functions.R\")\n",
    "# initialise metacell database using its relative path:\n",
    "metacell::scdb_init(\"/mnt/d/scTriH2/metacell/mc_unzipped/\", force_reinit = TRUE)\n",
    "\n",
    "# read the mat object using its ID to refer to it; there ara analogous files for metacells, etc\n",
    "mat_no_bact <- scdb_mat(\"scdr_TrH2_it2\")\n",
    "\n",
    "# sparse matrix available in the mat@mat slot, in this case it contains x genes and y cells\n",
    "dim(mat_no_bact@mat)\n",
    "    # 13948 genes x 15788 cells\n",
    "\n",
    "# likewise, you may want to load a mc object containing cell-to-metacell assignments\n",
    "mc = metacell::scdb_mc(\"scdr_TrH2_it4\")\n",
    "# the mc@mc slot is a vector with all cells and their associated metacell\n",
    "length(mc@mc)\n",
    "# 15704 cells associated with metacells\n",
    "\n",
    "ctt = read.table(\"annotation_mc.TrH2.it4.reordered.tsv\", header = TRUE)\n",
    "ctt_col = scr_load_cell_type_table(\"annotation_mc.TrH2.it4.reordered.tsv\", mc)\n",
    "head(ctt)\n",
    "nrow(ctt[\"metacell\"])\n",
    "# 217 metacells present\n",
    "unique(ctt[\"cell_type\"])\n",
    "                              cell_type\n",
    "1                              lipophil\n",
    "37               trans_lipophil_1_fibre\n",
    "38               trans_lipophil_1_gland\n",
    "40           trans_lipophil_1_epithelia\n",
    "41                            unknown_1\n",
    "46                          unknown_2.1\n",
    "47                          unknown_2.2\n",
    "51                          unknown_2.3\n",
    "52                          unknown_2.4\n",
    "59                                fibre\n",
    "91                    trans_fibre_gland\n",
    "92                trans_fibre_epithelia\n",
    "94                              gland_1\n",
    "120                epithelia_gland_like\n",
    "130                 epithelia_unknown_1\n",
    "131                   epithelia_ventral\n",
    "157 trans_epithelia_ventral_peptidergic\n",
    "159      trans_epithelia_dorsal_ventral\n",
    "164               epithelia_dorsal_like\n",
    "178                    epithelia_dorsal\n",
    "194             peptidergic_progenitors\n",
    "195                   peptidergic_alpha\n",
    "197                    peptidergic_beta\n",
    "198                   peptidergic_gamma\n",
    "199              peptidergic_gamma_like\n",
    "200                   peptidergic_delta\n",
    "201                 peptidergic_epsilon\n",
    "202                    peptidergic_zeta\n",
    "203                     peptidergic_eta\n",
    "205                   peptidergic_theta\n",
    "206                    peptidergic_iota\n",
    "209               peptidergic_iota_like\n",
    "211                   peptidergic_kappa\n",
    "213                  peptidergic_lambda\n",
    "214                      peptidergic_mu\n",
    "215                 peptidergic_mu_like\n",
    "216                      peptidergic_nu\n",
    "217                 peptidergic_omicron\n",
    "\n"
   ]
  },
  {
   "cell_type": "markdown",
   "metadata": {},
   "source": [
    "Secondly, the single cell data matrix (in this case in seurat object) is loaded. \n",
    "- The scRNA data are merged and processed (normalization , PCA)"
   ]
  },
  {
   "cell_type": "code",
   "execution_count": null,
   "metadata": {
    "vscode": {
     "languageId": "plaintext"
    }
   },
   "outputs": [],
   "source": [
    "library(Seurat)\n",
    "# load the symbiont sc matrix\n",
    "BiocManager::install(\"SingleCellExperiment\")\n",
    "library(SingleCellExperiment)\n",
    "install.packages(\"SeuratObject\")\n",
    "summary_object_1 <- readRDS(\"/mnt/e/scTriH2/SEURAT/extracted/1.cellRangerCount/Seurat_outputs/merged_seurat_object_1.rds\")\n",
    "sce = as.SingleCellExperiment(summary_object_1, assay=\"RNA\")\n",
    "\n",
    "# or\n",
    "merged_seurat <- readRDS(\"/mnt/d/scTriH2/SEURAT/extracted/1.cellRangerCount/Seurat_outputs/merged_seurat_object_1.rds\")\n",
    "sce = as.SingleCellExperiment(merged_seurat, assay=\"RNA\")\n",
    "\n",
    "bact_mat = scm_import_sce_to_mat(sce)\n",
    "library(Matrix)\n",
    "\n",
    "# change barcode names like in names(mc@mc)\n",
    "colnames(bact_mat@mat) <- paste0(\"H2_1_ACME_10x_10kc_\", colnames(bact_mat@mat))\n",
    "\n",
    "# add up every genes contained in a cell(barcode)\n",
    "grellia <- colSums(as.matrix(bact_mat@mat))\n",
    "\n",
    "# add missing barcodes to the grellia and set values to 0 before summing\n",
    "missing_barcodes <- setdiff(names(mc@mc), names(grellia))\n",
    "grellia[missing_barcodes] <- 0\n",
    "\n",
    "# Count bacterial signal per metacell\n",
    "grellia_total <- tapply(grellia[names(mc@mc)], mc@mc, sum)\n",
    "\n",
    "\n",
    "## First, visualize how many grellia signal is contained in each metacells\n",
    "# bacterial signal per metacell, point size = log(signals per cell)\n",
    "pdf(\"bacterial_signal_per_mc.pdf\", h=8, w=8, useDingbats=F)\n",
    "\n",
    "# Scatter plot of grellia_total\n",
    "plot(grellia_total, pch=20, cex=log(grellia_total + 1), col=as.character(ctt$color))\n",
    "\n",
    "# Add text labels\n",
    "text(grellia_total, labels=names(grellia_total), col=ifelse(pmax(grellia_total)> 6,\"black\",alpha(\"black\",0)))\n",
    "\n",
    "# Extract unique cell types with over 50 bacterial signal and corresponding colors\n",
    "filtered_cells <- names(grellia_total)[grellia_total > 50]\n",
    "filtered_ctt <- ctt[filtered_cells, , drop = FALSE]\n",
    "\n",
    "unique_cell_types <- unique(filtered_ctt$cell_type)\n",
    "unique_colors <- filtered_ctt$color[match(unique_cell_types, filtered_ctt$cell_type)]\n",
    "\n",
    "\n",
    "# Add legend with unique cell types\n",
    "legend(\"topright\", legend=unique_cell_types, col=unique_colors, pch=20, border=\"black\", cex=1)\n",
    "\n",
    "dev.off()\n",
    "\n",
    "\n",
    "# sc bacterial signal 2D projections, absolute counts\n",
    "mc2d <- scdb_mc2d(\"scdr_TrH2_it4\")\n",
    "grellia_mc2d_abs <- scp_plot_gene_2d_metacell_bacteria(mc2d,mc,grellia_total,out_fn=\"Grellia_2d_abs.png\",plot_mc=F,log=F)\n",
    "grellia_mc2d_mc_abs <- scp_plot_gene_2d_metacell_bacteria(mc2d,mc,grellia_total,out_fn=\"Grellia_2d_mc_abs.p\n",
    "ng\",plot_mc=T,log=F)\n",
    "\n",
    "# metacell visualization\n",
    "mc2d_plot <- mcell_mc2d_plot(\"scdr_TrH2_it4\", legend_pos =\"bot\n",
    "tomright\", colors = ctt$color, fig_fn=\"mc2d_plot.png\")\n",
    "\n",
    "\n",
    "mat_no_bact_counts <- as.matrix(mat_no_bact@mat)\n",
    "host_counts <- as.matrix(mc@mc_fp)\n",
    "mc_counts <- as.matrix(mat_no_bact_counts) %*% t(as.matrix(mc_fp)) # genes x metacells matrix\n",
    "dim(mat_no_bact_counts)\n",
    "dim(host_counts)\n",
    "\n",
    "# Check if the genes are the same and in the same order\n",
    "all(rownames(mat_no_bact_counts) == rownames(host_counts))\n",
    "\n",
    "# If not, align them\n",
    "mat_no_bact_counts <- mat_no_bact_counts[rownames(host_counts), ]\n",
    "\n",
    "# Assuming 'mc@mc' is a vector of metacell assignments for each cell\n",
    "# and 'mat_no_bact_counts' is a gene-by-cell matrix\n",
    "\n",
    "# Aggregate host counts by metacell\n",
    "mc_counts <- t(rowsum(t(mat_no_bact_counts), group = mc@mc))\n",
    "\n",
    "# Check dimensions\n",
    "dim(mc_counts)  # Should be genes x metacells\n",
    "\n",
    "mat_no_bact_counts <- as.matrix(mat_no_bact_counts)\n",
    "storage.mode(mat_no_bact_counts) <- \"numeric\"\n",
    "\n",
    "mc_fp <- as.matrix(mc_fp)\n",
    "storage.mode(mc_fp) <- \"numeric\"\n",
    "\n",
    "\n",
    "mc_counts <- as.matrix(mat_no_bact_counts) %*% t(as.matrix(mc_fp)) # genes x metacells matrix\n",
    "\n",
    "\n",
    "\n",
    "mc_sizes=colSums(mc_counts)\n",
    "grellia_norm=grellia_total*100/(grellia_total+mc_sizes)\n",
    "\n"
   ]
  },
  {
   "cell_type": "code",
   "execution_count": null,
   "metadata": {
    "vscode": {
     "languageId": "plaintext"
    }
   },
   "outputs": [],
   "source": [
    "# or also "
   ]
  },
  {
   "cell_type": "markdown",
   "metadata": {},
   "source": []
  },
  {
   "cell_type": "markdown",
   "metadata": {},
   "source": [
    "After counting:\n",
    "Generate figures for the metacell bacterial signal\n"
   ]
  },
  {
   "cell_type": "code",
   "execution_count": null,
   "metadata": {
    "vscode": {
     "languageId": "plaintext"
    }
   },
   "outputs": [],
   "source": [
    "# metacell bacterial signal\n",
    "pdf(\"bacterial_signal_per_mc.pdf\",h=8,w=8,useDingbats=F)\n",
    "plot(grellia_norm, pch=20, cex=4, col=as.character(ctt$color))\n",
    "text(grellia_norm, labels=names(grellia_norm), col=ifelse(pmax(grellia_norm)>4,\"black\",alpha(\"black\",0)))\n",
    "dev.off()\n",
    "\n",
    "# sc bacterial signal 2D projections\n",
    "mc2d <- scdb_mc2d(mc2d_id=\"scdr_TrH2_it4\")\n",
    "grellia_mc2d <- scp_plot_gene_2d_metacell_bacteria(mc2d,mc,grellia_norm,out_fn=\"Grellia_2d.png\",plot_mc=F,log=F)\n",
    "\n",
    "# fraction of infected/bacterial-containing cells per animal\n",
    "cell_animal=as.vector(mat@cell_metadata[names(mc@mc),\"dataset\"])\n",
    "names(cell_animal)=names(mc@mc)\n",
    "frac_grellia_cells=table(cell_animal[grellia_positive_cells])*100/table(cell_animal)\n",
    "\n",
    "pdf(\"Frac_infected_cells_per_animal.pdf\",h=10,w=6,useDingbats=F)\n",
    "par(mfrow=c(2,1))\n",
    "barplot(frac_grellia_cells,ylab=\"% infected cells\",col=\"gray30\",ylim=c(0,10),main=\"Grellia\")\n",
    "dev.off()\n"
   ]
  }
 ],
 "metadata": {
  "language_info": {
   "name": "python"
  }
 },
 "nbformat": 4,
 "nbformat_minor": 2
}
